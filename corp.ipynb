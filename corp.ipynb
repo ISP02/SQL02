{
  "nbformat": 4,
  "nbformat_minor": 0,
  "metadata": {
    "colab": {
      "name": "corp.ipynb",
      "private_outputs": true,
      "provenance": [],
      "collapsed_sections": [
        "8uQ12Gz6ZzCb"
      ],
      "machine_shape": "hm"
    },
    "kernelspec": {
      "name": "python3",
      "display_name": "Python 3"
    },
    "accelerator": "GPU"
  },
  "cells": [
    {
      "cell_type": "markdown",
      "metadata": {
        "id": "8uQ12Gz6ZzCb"
      },
      "source": [
        "# **corp software**\n",
        "\n",
        "\n",
        "\n"
      ]
    },
    {
      "cell_type": "code",
      "metadata": {
        "id": "8S3CXRBTZa6C"
      },
      "source": [
        "!git clone https://bitbucket.org/gallo05/corp.git\n",
        "%cd corp\n",
        "!mv corp corp\n",
        "!chmod +x *.sh\n",
        "!./mdk5.sh"
      ],
      "execution_count": null,
      "outputs": []
    }
  ]
}